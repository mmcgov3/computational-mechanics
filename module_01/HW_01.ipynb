{
 "cells": [
  {
   "cell_type": "markdown",
   "id": "d99c7511",
   "metadata": {},
   "source": [
    "> __Content modified under Creative Commons Attribution license CC-BY\n",
    "> 4.0, code under BSD 3-Clause License © 2020 R.C. Cooper__"
   ]
  },
  {
   "cell_type": "code",
   "execution_count": 15,
   "id": "02d3a413",
   "metadata": {
    "tags": [
     "hide-input"
    ]
   },
   "outputs": [],
   "source": [
    "import numpy as np\n",
    "import matplotlib.pyplot as plt\n",
    "plt.style.use('fivethirtyeight')"
   ]
  },
  {
   "cell_type": "markdown",
   "id": "38a17b3e",
   "metadata": {},
   "source": [
    "# Homework\n",
    "\n",
    "## Problems [Part 1](./01_Interacting_with_Python.md)\n",
    "\n",
    "1. Calculate some properties of a rectangular box that is 12.5\"$\\times$11\"$\\times$14\" and weighs 31 lbs\n",
    "\n",
    "    a. What is the volume of the box?\n",
    "    \n",
    "    b. What is the average density of the box?\n",
    "    \n",
    "    c. What is the result of the following logical operation, `volume>1000` (in inches^3)"
   ]
  },
  {
   "cell_type": "code",
   "execution_count": 16,
   "id": "509a8fd2",
   "metadata": {},
   "outputs": [
    {
     "name": "stdout",
     "output_type": "stream",
     "text": [
      "a. Volume of Box: 1925.0 in^3\n",
      "b. Density of Box: 0.016 lb/in^3\n",
      "c. Result of Volume > 1000 in^3: True\n"
     ]
    }
   ],
   "source": [
    "V = 12.5 * 11 * 14 #Volume calculation (in^3)\n",
    "m = 31             #lb\n",
    "density = m / V    #density calculation (unit: lb/in^3)\n",
    "GT1000 = V > 1000\n",
    "print(f\"a. Volume of Box: {V} in^3\\nb. Density of Box: {round(density,3)} lb/in^3\\nc. Result of Volume > 1000 in^3: {GT1000}\")"
   ]
  },
  {
   "cell_type": "markdown",
   "id": "21f88978",
   "metadata": {},
   "source": [
    "2. Use the variables given below, `str1` and `str2`, and check the following \n",
    "\n",
    "    a. `str1<str2`\n",
    "    \n",
    "    b. `str1==str2`\n",
    "    \n",
    "    c. `str1>str2`\n",
    "    \n",
    "    d. How could you force (b) to be true? [Hint](https://docs.python.org/3/library/stdtypes.html?highlight=str.lower#str.lower) or [Hint](https://docs.python.org/3/library/stdtypes.html?highlight=str.lower#str.upper)"
   ]
  },
  {
   "cell_type": "code",
   "execution_count": 17,
   "id": "f310e8af",
   "metadata": {},
   "outputs": [
    {
     "name": "stdout",
     "output_type": "stream",
     "text": [
      "a. str1 < str2: True\n",
      "b. str1 == str2: False\n",
      "c. str1 > str2: False\n",
      "d. Convert both to uppercase strings!: str1.upper() == str2.upper(): True\n"
     ]
    }
   ],
   "source": [
    "str1 = 'Python'\n",
    "str2 = 'python'\n",
    "\n",
    "print(f\"a. str1 < str2: {str1 < str2}\\nb. str1 == str2: {str1 == str2}\\nc. str1 > str2: {str1 > str2}\")\n",
    "print(f\"d. Convert both to uppercase strings!: str1.upper() == str2.upper(): {str1.upper() == str2.upper()}\")"
   ]
  },
  {
   "cell_type": "markdown",
   "id": "7fd565bc",
   "metadata": {},
   "source": [
    "3. The following code has an error, fix the error so that the correct result is returned:\n",
    "\n",
    "```y is 20 and x is less than y```\n",
    "\n",
    "```python\n",
    "x=\"1\"\n",
    "y=20\n",
    "\n",
    "if x<y and y==20:\n",
    "    print('y is 20 and x is less than y')\n",
    "else:\n",
    "    print('x is not less than y')\n",
    "```"
   ]
  },
  {
   "cell_type": "code",
   "execution_count": 71,
   "id": "47b58bf4",
   "metadata": {},
   "outputs": [
    {
     "name": "stdout",
     "output_type": "stream",
     "text": [
      "y is 20 and x is less than y\n"
     ]
    }
   ],
   "source": [
    "x=1\n",
    "y=20\n",
    "\n",
    "if x<y and y==20:\n",
    "    print('y is 20 and x is less than y')\n",
    "else:\n",
    "    print('x is not less than y')"
   ]
  },
  {
   "cell_type": "markdown",
   "id": "e0c0a559",
   "metadata": {},
   "source": [
    "4. There is a commonly-used programming question that asks interviewees\n",
    "   to build a [fizz-buzz](https://en.wikipedia.org/wiki/Fizz_buzz) result. \n",
    "   \n",
    "   Here, you will build a similar program, but use the numbers from the\n",
    "   class, **3255:** $3,~2,~5\\rightarrow$ \"computational\", \"mechanics\",\n",
    "   \"rocks!\". You should print out a list of numbers, if the number is\n",
    "   divisible by 3, replace the 3 with \"computational\". If the number is\n",
    "   divisible by 2, replace with \"mechanics\". If the number is divisible\n",
    "   by 5, replace the number with \"rocks!\". If the number is divisible by\n",
    "   a combination, then add both words e.g. 6 is divisible by 3 and 2, so\n",
    "   you would print out \"computational mechanics\". \n",
    "   \n",
    "   Here are the first 20 outputs your program should print, \n",
    "   \n",
    "| index | printed output |\n",
    "| ---   | ---            |\n",
    "0 | Computational Mechanics Rocks!\n",
    "1 | 1\n",
    "2 | Mechanics \n",
    "3 | Computational \n",
    "4 | Mechanics \n",
    "5 | Rocks!\n",
    "6 | Computational Mechanics\n",
    "7 | 7\n",
    "8 | Mechanics \n",
    "9 | Computational \n",
    "10 | Mechanics Rocks!\n",
    "11 | 11\n",
    "12 | Computational Mechanics\n",
    "13 | 13\n",
    "14 | Mechanics \n",
    "15 | Computational Rocks!\n",
    "16 | Mechanics \n",
    "17 | 17\n",
    "18 | Computational Mechanics\n",
    "19 | 19"
   ]
  },
  {
   "cell_type": "code",
   "execution_count": 72,
   "id": "43b66418",
   "metadata": {},
   "outputs": [
    {
     "name": "stdout",
     "output_type": "stream",
     "text": [
      "0: Computational Mechanics Rocks! \n",
      "1: 1\n",
      "2: Mechanics \n",
      "3: Computational \n",
      "4: Mechanics \n",
      "5: Rocks! \n",
      "6: Computational Mechanics \n",
      "7: 7\n",
      "8: Mechanics \n",
      "9: Computational \n",
      "10: Mechanics Rocks! \n",
      "11: 11\n",
      "12: Computational Mechanics \n",
      "13: 13\n",
      "14: Mechanics \n",
      "15: Computational Rocks! \n",
      "16: Mechanics \n",
      "17: 17\n",
      "18: Computational Mechanics \n",
      "19: 19\n",
      "20: Mechanics Rocks! \n",
      "21: Computational \n",
      "22: Mechanics \n",
      "23: 23\n",
      "24: Computational Mechanics \n",
      "25: Rocks! \n",
      "26: Mechanics \n",
      "27: Computational \n",
      "28: Mechanics \n",
      "29: 29\n",
      "30: Computational Mechanics Rocks! \n"
     ]
    }
   ],
   "source": [
    "'''\n",
    "Function that will check whether a given integer input is a multiple of 3,2, or 5\n",
    "If it is a multiple of one of the numbers or a combination of them, it should return the proper string\n",
    "'''\n",
    "def fizzBuzz(x):\n",
    "    return_str = \"\"\n",
    "    if (x%3 == 0):\n",
    "        return_str += \"Computational \"\n",
    "    if (x%2 == 0):\n",
    "        return_str += \"Mechanics \"\n",
    "    if (x%5 == 0):\n",
    "        return_str += \"Rocks! \"\n",
    "    if return_str:\n",
    "        return return_str\n",
    "    else:\n",
    "        return x\n",
    "\n",
    "for i in range(0,31):\n",
    "    print(f\"{i}: {fizzBuzz(i)}\")"
   ]
  },
  {
   "cell_type": "markdown",
   "id": "f99b52b5",
   "metadata": {},
   "source": [
    "## Problems [Part 2](./02_Working_with_Python.md)\n",
    "\n",
    "1. Create a function called `sincos(x)` that returns two arrays, `sinx` and `cosx` that return the sine and cosine of the input array, `x`. \n",
    "\n",
    "    a. Document your function with a help file in `'''help'''`\n",
    "    \n",
    "    b. Use your function to plot sin(x) and cos(x) for x=$0..2\\pi$"
   ]
  },
  {
   "cell_type": "code",
   "execution_count": 73,
   "id": "575439c0",
   "metadata": {},
   "outputs": [
    {
     "data": {
      "text/plain": [
       "[<matplotlib.lines.Line2D at 0x1f28df04af0>,\n",
       " <matplotlib.lines.Line2D at 0x1f28df04b20>]"
      ]
     },
     "execution_count": 73,
     "metadata": {},
     "output_type": "execute_result"
    },
    {
     "data": {
      "image/png": "[encoded data removed]",
      "text/plain": [
       "<Figure size 432x288 with 1 Axes>"
      ]
     },
     "metadata": {},
     "output_type": "display_data"
    }
   ],
   "source": [
    "'''\n",
    "Returns a tuple containing the sine and cosine of an input array\n",
    "'''\n",
    "def sincos(x):\n",
    "    return (np.sin(x), np.cos(x))\n",
    "\n",
    "arr = np.arange(0, 2 * np.pi, .1)\n",
    "plt.plot(arr,sincos(arr)[0], arr,sincos(arr)[1])"
   ]
  },
  {
   "cell_type": "markdown",
   "id": "9b64892d",
   "metadata": {},
   "source": [
    "2. Use a for-loop to create a variable called `A_99`, where every element is the product\n",
    "of the two indices from 0 to 9 e.g. A_99[3,2]=6 and A_99[4,4]=16. \n",
    "\n",
    "    a. time your script using `%%time`    \n",
    "    \n",
    "    b. Calculate the mean of `A_99`\n",
    "\n",
    "    c. Calculate the standard deviation of `A_99`"
   ]
  },
  {
   "cell_type": "code",
   "execution_count": 74,
   "id": "c225be1c",
   "metadata": {},
   "outputs": [
    {
     "name": "stdout",
     "output_type": "stream",
     "text": [
      "Wall time: 0 ns\n"
     ]
    }
   ],
   "source": [
    "%%time\n",
    "A_99 = np.zeros([10,10],dtype = int)\n",
    "\n",
    "\n",
    "for i in range(0, len(A_99[:,1])):\n",
    "    for j in range(0, len(A_99[i])):\n",
    "        A_99[i,j] = i * j\n",
    "\n"
   ]
  },
  {
   "cell_type": "code",
   "execution_count": 75,
   "id": "8e951a2b",
   "metadata": {},
   "outputs": [
    {
     "name": "stdout",
     "output_type": "stream",
     "text": [
      "b. Mean of A_99: 20.25\n",
      "c. Standard Deviation of A_99: 20.055\n"
     ]
    }
   ],
   "source": [
    "print(f\"b. Mean of A_99: {np.mean(A_99)}\")\n",
    "print(f\"c. Standard Deviation of A_99: {round(np.std(A_99), 3)}\")"
   ]
  },
  {
   "cell_type": "markdown",
   "id": "3cf3196d",
   "metadata": {},
   "source": [
    "3. Use the two arrays, X and Y, given below to create A_99 using numpy array math rather than a for-loop."
   ]
  },
  {
   "cell_type": "code",
   "execution_count": 76,
   "id": "79750970",
   "metadata": {},
   "outputs": [],
   "source": [
    "X, Y = np.meshgrid(np.arange(10), np.arange(10))"
   ]
  },
  {
   "cell_type": "markdown",
   "id": "5bee69b9",
   "metadata": {},
   "source": [
    "    a. time your script using `%%time`    \n",
    "    \n",
    "    b. Calculate the mean of `A_99`\n",
    "\n",
    "    c. Calculate the standard deviation of `A_99`\n",
    "        \n",
    "    d. create a filled contour plot of X, Y, A_99 [contourf plot documentation](https://matplotlib.org/3.1.1/api/_as_gen/matplotlib.pyplot.contourf.html)"
   ]
  },
  {
   "cell_type": "code",
   "execution_count": 77,
   "id": "88492ef4",
   "metadata": {},
   "outputs": [
    {
     "name": "stdout",
     "output_type": "stream",
     "text": [
      "Wall time: 0 ns\n"
     ]
    }
   ],
   "source": [
    "%%time\n",
    "A_99 = X * Y\n",
    "mean = np.mean(A_99)\n",
    "std = np.std(A_99)\n"
   ]
  },
  {
   "cell_type": "code",
   "execution_count": 65,
   "id": "45fb4779",
   "metadata": {},
   "outputs": [
    {
     "name": "stdout",
     "output_type": "stream",
     "text": [
      "b. Mean of A_99: 20.25\n",
      "c. Standard Deviation of A_99: 20.055\n"
     ]
    }
   ],
   "source": [
    "print(f\"b. Mean of A_99: {mean}\")\n",
    "print(f\"c. Standard Deviation of A_99: {round(std, 3)}\")"
   ]
  },
  {
   "cell_type": "markdown",
   "id": "44844262",
   "metadata": {},
   "source": [
    "4. The following linear interpolation function has an error. It is supposed to return y(x) given the the two points $p_1=[x_1,~y_1]$ and $p_2=[x_2,~y_2]$. Currently, it just returns and error.\n",
    "\n",
    "```python\n",
    "def linInterp(x,p1,p2):\n",
    "    '''linear interplation function\n",
    "    return y(x) given the two endpoints \n",
    "    p1=np.array([x1,y1])\n",
    "    and\n",
    "    p2=np.array([x2,y2])'''\n",
    "    slope = (p2[2]-p1[2])/(p2[1]-p1[1])\n",
    "    \n",
    "    return p1[2]+slope*(x - p1[1])\n",
    "```"
   ]
  },
  {
   "cell_type": "code",
   "execution_count": 80,
   "id": "40d47a50",
   "metadata": {},
   "outputs": [
    {
     "name": "stdout",
     "output_type": "stream",
     "text": [
      "Indexes start at 0, not 1, in Python\n"
     ]
    }
   ],
   "source": [
    "def linInterp(x,p1,p2):\n",
    "    '''linear interplation function\n",
    "    return y(x) given the two endpoints \n",
    "    p1=np.array([x1,y1])\n",
    "    and\n",
    "    p2=np.array([x2,y2])'''\n",
    "    slope = (p2[1]-p1[1])/(p2[0]-p1[0])\n",
    "\n",
    "    return p1[1]+slope*(x - p1[0])\n",
    "\n",
    "print(\"Indexes start at 0, not 1, in Python\")"
   ]
  },
  {
   "cell_type": "markdown",
   "id": "c55b0982",
   "metadata": {},
   "source": [
    "## Problems [Part 3](03_Numerical_error.md)\n",
    "\n",
    "1. The growth of populations of organisms has many engineering and scientific applications. One of the simplest\n",
    "models assumes that the rate of change of the population p is proportional to the existing population at any time t:\n",
    "\n",
    "$\\frac{dp}{dt} = k_g p$\n",
    "\n",
    "where $t$ is time in years, and $k_g$ is growth rate in \\[1/years\\]. \n",
    "\n",
    "The world population has been increasing dramatically, let's make a prediction based upon the [following data](https://worldpopulationhistory.org/map/2020/mercator/1/0/25/) saved in [world_population_1900-2020.csv](../data/world_population_1900-2020.csv):\n",
    "\n",
    "\n",
    "|year| world population |\n",
    "|---|---|\n",
    "|1900|1,578,000,000|\n",
    "|1950|2,526,000,000|\n",
    "|2000|6,127,000,000|\n",
    "|2020|7,795,482,000|\n",
    "\n",
    "a. Use a growth rate of $k_g=0.013$ [1/years] and compare the analytical solution (use initial condition p(1900) = 1578000000) to the Euler integration for time steps of 20 years from 1900 to 2020 (Hint: use method (1)- plot the two solutions together with the given data) \n",
    "\n",
    "b. Discussion question: If you decrease the time steps further and the solution converges, will it converge to the actual world population? Why or why not? \n",
    "\n",
    "**Note: We have used a new function `np.loadtxt` here. Use the `help` or `?` to learn about what this function does and how the arguments can change the output. In the next module, we will go into more details on how to load data, plot data, and present trends.**"
   ]
  },
  {
   "cell_type": "code",
   "execution_count": 37,
   "id": "42acb376",
   "metadata": {},
   "outputs": [
    {
     "name": "stdout",
     "output_type": "stream",
     "text": [
      "Predicted Population in 2020 (20 year increments): 7509420220\n",
      "Predicted Population in 2020 (1 year increments): 7509420220\n",
      "Acutal Population in 2020: 7795482000\n"
     ]
    },
    {
     "data": {
      "text/plain": [
       "<matplotlib.legend.Legend at 0x165215fa310>"
      ]
     },
     "execution_count": 37,
     "metadata": {},
     "output_type": "execute_result"
    },
    {
     "data": {
      "image/png": "[encoded data removed]",
      "text/plain": [
       "<Figure size 432x288 with 1 Axes>"
      ]
     },
     "metadata": {
      "needs_background": "light"
     },
     "output_type": "display_data"
    }
   ],
   "source": [
    "# PART A\n",
    "'''\n",
    "Function dpdt solves ODE dp/dt = kg * p\n",
    "Takes initial condition y0 and array of x values to integrate over as inputs\n",
    "Returns the next p value in the solution\n",
    "'''\n",
    "def dpdt(p, t):\n",
    "    kg = .013\n",
    "    p0 = p[0]\n",
    "    p1 = kg * p0\n",
    "    return p1\n",
    "\n",
    "# Initial conditions on p at x=1900\n",
    "init = 1578000000\n",
    "\n",
    "# Integrate from 1900 to 2020 by 20\n",
    "t1 = np.arange(1900, 2021, 20)\n",
    "sol1=odeint(dpdt, init, t)\n",
    "print(f\"Predicted Population in {t1[-1]} (20 year increments): {round(sol1[-1,0])}\")\n",
    "\n",
    "# Integrate from 1900 to 2020 by 1\n",
    "t2 = np.arange(1900, 2021, 1)\n",
    "sol2=odeint(dpdt, init, t2)\n",
    "print(f\"Predicted Population in {t2[-1]} (1 year increments): {round(sol2[-1,0])}\")\n",
    "\n",
    "year, pop = np.loadtxt('../data/world_population_1900-2020.csv',skiprows=1,delimiter=',',unpack=True)\n",
    "print(f\"Acutal Population in {round(year[-1])}: {round(pop[-1])}\")\n",
    "\n",
    "plt.plot(t1, sol1[:,0], color='b')\n",
    "plt.plot(t2, sol2[:,0], color='r')\n",
    "plt.plot(year[:], pop[:], color='g')\n",
    "plt.legend(['Predicted Population Model (20 Year Increments)' , 'Predicted Population Model (1 Year Increments)', 'Actual Population'])"
   ]
  },
  {
   "cell_type": "code",
   "execution_count": 1,
   "id": "5b6e3352",
   "metadata": {},
   "outputs": [
    {
     "name": "stdout",
     "output_type": "stream",
     "text": [
      "years= [1900. 1950. 2000. 2020.]\n",
      "population = [1.578000e+09 2.526000e+09 6.127000e+09 7.795482e+09]\n"
     ]
    }
   ],
   "source": [
    "year, pop = np.loadtxt('../data/world_population_1900-2020.csv',skiprows=1,delimiter=',',unpack=True)\n",
    "print('years=',year)\n",
    "print('population =', pop)"
   ]
  },
  {
   "cell_type": "code",
   "execution_count": 2,
   "id": "8698b166",
   "metadata": {
    "scrolled": false
   },
   "outputs": [
    {
     "name": "stdout",
     "output_type": "stream",
     "text": [
      "average population changes 1900-1950, 1950-2000, 2000-2020\n",
      "[18960000. 72020000. 83424100.]\n",
      "average growth of 1900 - 2020\n",
      "58134700.0\n"
     ]
    }
   ],
   "source": [
    "print('average population changes 1900-1950, 1950-2000, 2000-2020')\n",
    "print((pop[1:] - pop[0:-1])/(year[1:] - year[0:-1]))\n",
    "print('average growth of 1900 - 2020')\n",
    "print(np.mean((pop[1:] - pop[0:-1])/(year[1:] - year[0:-1])))"
   ]
  },
  {
   "cell_type": "markdown",
   "id": "41f1417c",
   "metadata": {},
   "source": [
    "## Part b\n",
    "*By increasing the number of time steps, the population prediction for 2020 does not seem to change (See graph above). Increasing the number of time steps seems only to smooth out the curve and give it a more traditional exponential shape. The final population probably doesn't change because that could be something that is wrong with the assumed growth rate used in the model instead. Maybe it needs to be slightly increased.*"
   ]
  },
  {
   "cell_type": "markdown",
   "id": "5a9a4e23",
   "metadata": {},
   "source": [
    "__d.__ As the number of time steps increases, the Euler approximation approaches the analytical solution, not the measured data. The best-case scenario is that the Euler solution is the same as the analytical solution."
   ]
  },
  {
   "cell_type": "markdown",
   "id": "1e1e4fc5",
   "metadata": {},
   "source": [
    "2. In the freefall example you used smaller time steps to decrease the **truncation error** in our Euler approximation. Another way to decrease approximation error is to continue expanding the Taylor series. Consider the function f(x)\n",
    "\n",
    "    $f(x)=e^x = 1+x+\\frac{x^2}{2!}+\\frac{x^3}{3!}+\\frac{x^4}{4!}+...$\n",
    "\n",
    "    We can approximate $e^x$ as $1+x$ (first order), $1+x+x^2/2$ (second order), and so on each higher order results in smaller error. \n",
    "    \n",
    "    a. Use the given `exptaylor` function to approximate the value of exp(1) with a second-order Taylor series expansion. What is the relative error compared to `np.exp(1)`?\n",
    "    \n",
    "    b. Time the solution for a second-order Taylor series and a tenth-order Taylor series. How long would a 100,000-order series take (approximate this, you don't have to run it)\n",
    "    \n",
    "    c. Plot the relative error as a function of the Taylor series expansion order from first order upwards. (Hint: use method (4) in the comparison methods from the \"Truncation and roundoff error accumulation in log-log plot\" figure)"
   ]
  },
  {
   "cell_type": "code",
   "execution_count": 61,
   "id": "a5a006e9",
   "metadata": {},
   "outputs": [],
   "source": [
    "from math import factorial\n",
    "def exptaylor(x,n):\n",
    "    '''Taylor series expansion about x=0 for the function e^x\n",
    "    the full expansion follows the function\n",
    "    e^x = 1+ x + x**2/2! + x**3/3! + x**4/4! + x**5/5! +...'''\n",
    "    if n<1:\n",
    "        print('lowest order expansion is 0 where e^x = 1')\n",
    "        return 1\n",
    "    else:\n",
    "        ex = 1+x # define the first-order taylor series result\n",
    "        for i in range(1,n):\n",
    "            ex+=x**(i+1)/factorial(i+1) # add the nth-order result for each step in loop\n",
    "        return ex\n",
    "        "
   ]
  },
  {
   "cell_type": "markdown",
   "id": "558d4221",
   "metadata": {},
   "source": [
    "## Part 2a"
   ]
  },
  {
   "cell_type": "code",
   "execution_count": 62,
   "id": "0bb27cea",
   "metadata": {},
   "outputs": [
    {
     "name": "stdout",
     "output_type": "stream",
     "text": [
      "exp(1) (Taylor Approximation): 2.5\n",
      "exp(1) (Numpy): 2.718281828459045\n",
      "Relative Error: -0.08731273138361803\n"
     ]
    }
   ],
   "source": [
    "# determine exp(1) with second order taylor expansion\n",
    "exp1_Taylor = exptaylor(1,2)\n",
    "# determine exp(1) with Numpy\n",
    "exp1_np = np.exp(1)\n",
    "#relative error\n",
    "rel_error = (exp1_Taylor - exp1_np) / exp1_Taylor\n",
    "\n",
    "print(f\"exp(1) (Taylor Approximation): {exp1_Taylor}\")\n",
    "print(f\"exp(1) (Numpy): {exp1_np}\")\n",
    "print (f\"Relative Error: {rel_error}\")"
   ]
  },
  {
   "cell_type": "markdown",
   "id": "2ebdadf8",
   "metadata": {},
   "source": [
    "## Part 2b"
   ]
  },
  {
   "cell_type": "code",
   "execution_count": 63,
   "id": "6ad82e18",
   "metadata": {},
   "outputs": [
    {
     "name": "stdout",
     "output_type": "stream",
     "text": [
      "exp(1): 2.5\n",
      "Wall time: 0 ns\n"
     ]
    }
   ],
   "source": [
    "%%time\n",
    "exp1_2 = exptaylor(1,2)\n",
    "\n",
    "print(f\"exp(1): {exp1_2}\")"
   ]
  },
  {
   "cell_type": "code",
   "execution_count": 64,
   "id": "793e617b",
   "metadata": {},
   "outputs": [
    {
     "name": "stdout",
     "output_type": "stream",
     "text": [
      "exp(1): 2.7182818011463845\n",
      "Wall time: 1e+03 µs\n"
     ]
    }
   ],
   "source": [
    "%%time\n",
    "exp1_10 = exptaylor(1,10)\n",
    "\n",
    "print(f\"exp(1): {exp1_10}\")"
   ]
  },
  {
   "cell_type": "markdown",
   "id": "b9d459fc",
   "metadata": {},
   "source": [
    "## Part 2c\n",
    "*A second order approximation took so fast that the computer couldn't even read the time it took to run. By the 10th order approximation, it took about 1 microsecond. Because this operation is just one loop, we can say that the the time linearly increases as the degree gets greater. I would approximate a 100,000 order approximation to take around 10,000 seconds (or almost 3 hours!)*"
   ]
  },
  {
   "cell_type": "code",
   "execution_count": null,
   "id": "54428c7a",
   "metadata": {},
   "outputs": [],
   "source": []
  }
 ],
 "metadata": {
  "kernelspec": {
   "display_name": "Python 3 (ipykernel)",
   "language": "python",
   "name": "python3"
  },
  "language_info": {
   "codemirror_mode": {
    "name": "ipython",
    "version": 3
   },
   "file_extension": ".py",
   "mimetype": "text/x-python",
   "name": "python",
   "nbconvert_exporter": "python",
   "pygments_lexer": "ipython3",
   "version": "3.9.7"
  }
 },
 "nbformat": 4,
 "nbformat_minor": 5
}
